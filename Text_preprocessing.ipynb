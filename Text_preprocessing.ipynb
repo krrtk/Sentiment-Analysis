{
 "cells": [
  {
   "cell_type": "markdown",
   "id": "f11cd26e-bfd8-42c1-9752-3902e45b42c7",
   "metadata": {},
   "source": [
    "# IMPORTING AND GATHERING DATASET"
   ]
  },
  {
   "cell_type": "code",
   "execution_count": 121,
   "id": "9baa6bfc-b4f8-4e6d-8b5a-85aa16ffc2d0",
   "metadata": {},
   "outputs": [],
   "source": [
    "import numpy as np\n",
    "import pandas as pd\n",
    "import nltk"
   ]
  },
  {
   "cell_type": "code",
   "execution_count": 122,
   "id": "39113ee8-3dbd-4d65-9b5d-ed4c020f4534",
   "metadata": {},
   "outputs": [],
   "source": [
    "full= pd.read_csv('sample.csv')"
   ]
  },
  {
   "cell_type": "code",
   "execution_count": 123,
   "id": "60d60706-4ae4-46f3-9757-60b995705162",
   "metadata": {},
   "outputs": [
    {
     "data": {
      "text/html": [
       "<div>\n",
       "<style scoped>\n",
       "    .dataframe tbody tr th:only-of-type {\n",
       "        vertical-align: middle;\n",
       "    }\n",
       "\n",
       "    .dataframe tbody tr th {\n",
       "        vertical-align: top;\n",
       "    }\n",
       "\n",
       "    .dataframe thead th {\n",
       "        text-align: right;\n",
       "    }\n",
       "</style>\n",
       "<table border=\"1\" class=\"dataframe\">\n",
       "  <thead>\n",
       "    <tr style=\"text-align: right;\">\n",
       "      <th></th>\n",
       "      <th>tweet_id</th>\n",
       "      <th>author_id</th>\n",
       "      <th>inbound</th>\n",
       "      <th>created_at</th>\n",
       "      <th>text</th>\n",
       "      <th>response_tweet_id</th>\n",
       "      <th>in_response_to_tweet_id</th>\n",
       "    </tr>\n",
       "  </thead>\n",
       "  <tbody>\n",
       "    <tr>\n",
       "      <th>0</th>\n",
       "      <td>119237</td>\n",
       "      <td>105834</td>\n",
       "      <td>True</td>\n",
       "      <td>Wed Oct 11 06:55:44 +0000 2017</td>\n",
       "      <td>@AppleSupport causing the reply to be disregar...</td>\n",
       "      <td>119236</td>\n",
       "      <td>NaN</td>\n",
       "    </tr>\n",
       "    <tr>\n",
       "      <th>1</th>\n",
       "      <td>119238</td>\n",
       "      <td>ChaseSupport</td>\n",
       "      <td>False</td>\n",
       "      <td>Wed Oct 11 13:25:49 +0000 2017</td>\n",
       "      <td>@105835 Your business means a lot to us. Pleas...</td>\n",
       "      <td>NaN</td>\n",
       "      <td>119239.0</td>\n",
       "    </tr>\n",
       "    <tr>\n",
       "      <th>2</th>\n",
       "      <td>119239</td>\n",
       "      <td>105835</td>\n",
       "      <td>True</td>\n",
       "      <td>Wed Oct 11 13:00:09 +0000 2017</td>\n",
       "      <td>@76328 I really hope you all change but I'm su...</td>\n",
       "      <td>119238</td>\n",
       "      <td>NaN</td>\n",
       "    </tr>\n",
       "    <tr>\n",
       "      <th>3</th>\n",
       "      <td>119240</td>\n",
       "      <td>VirginTrains</td>\n",
       "      <td>False</td>\n",
       "      <td>Tue Oct 10 15:16:08 +0000 2017</td>\n",
       "      <td>@105836 LiveChat is online at the moment - htt...</td>\n",
       "      <td>119241</td>\n",
       "      <td>119242.0</td>\n",
       "    </tr>\n",
       "    <tr>\n",
       "      <th>4</th>\n",
       "      <td>119241</td>\n",
       "      <td>105836</td>\n",
       "      <td>True</td>\n",
       "      <td>Tue Oct 10 15:17:21 +0000 2017</td>\n",
       "      <td>@VirginTrains see attached error message. I've...</td>\n",
       "      <td>119243</td>\n",
       "      <td>119240.0</td>\n",
       "    </tr>\n",
       "  </tbody>\n",
       "</table>\n",
       "</div>"
      ],
      "text/plain": [
       "   tweet_id     author_id  inbound                      created_at  \\\n",
       "0    119237        105834     True  Wed Oct 11 06:55:44 +0000 2017   \n",
       "1    119238  ChaseSupport    False  Wed Oct 11 13:25:49 +0000 2017   \n",
       "2    119239        105835     True  Wed Oct 11 13:00:09 +0000 2017   \n",
       "3    119240  VirginTrains    False  Tue Oct 10 15:16:08 +0000 2017   \n",
       "4    119241        105836     True  Tue Oct 10 15:17:21 +0000 2017   \n",
       "\n",
       "                                                text response_tweet_id  \\\n",
       "0  @AppleSupport causing the reply to be disregar...            119236   \n",
       "1  @105835 Your business means a lot to us. Pleas...               NaN   \n",
       "2  @76328 I really hope you all change but I'm su...            119238   \n",
       "3  @105836 LiveChat is online at the moment - htt...            119241   \n",
       "4  @VirginTrains see attached error message. I've...            119243   \n",
       "\n",
       "   in_response_to_tweet_id  \n",
       "0                      NaN  \n",
       "1                 119239.0  \n",
       "2                      NaN  \n",
       "3                 119242.0  \n",
       "4                 119240.0  "
      ]
     },
     "execution_count": 123,
     "metadata": {},
     "output_type": "execute_result"
    }
   ],
   "source": [
    "full.head()"
   ]
  },
  {
   "cell_type": "code",
   "execution_count": 131,
   "id": "433c693e-91d8-4101-98aa-b8d519b58de2",
   "metadata": {},
   "outputs": [],
   "source": [
    "df=full[[\"text\"]]"
   ]
  },
  {
   "cell_type": "code",
   "execution_count": 132,
   "id": "f05bfe60-872e-42d9-bea4-6f8fcb925b94",
   "metadata": {},
   "outputs": [
    {
     "data": {
      "text/plain": [
       "Index(['text'], dtype='object')"
      ]
     },
     "execution_count": 132,
     "metadata": {},
     "output_type": "execute_result"
    }
   ],
   "source": [
    "df.columns"
   ]
  },
  {
   "cell_type": "markdown",
   "id": "8e4b4b06-f12b-4735-b2b0-54051b0c3a07",
   "metadata": {},
   "source": [
    "# TEXT PREPROCESSING\n",
    "\n",
    "\n",
    "# 1. LOWERCASING"
   ]
  },
  {
   "cell_type": "code",
   "execution_count": 133,
   "id": "7ed0a52f-99f9-40dd-8e56-affa1b9b3144",
   "metadata": {},
   "outputs": [],
   "source": [
    "import str"
   ]
  },
  {
   "cell_type": "code",
   "execution_count": 134,
   "id": "83ba89bd-50d9-42c7-8766-90e488e07dae",
   "metadata": {},
   "outputs": [],
   "source": [
    "df.loc[:, 'text'] = df['text'].str.lower()"
   ]
  },
  {
   "cell_type": "markdown",
   "id": "b3fb7da8-9127-4e0f-87da-28ebf88735f9",
   "metadata": {},
   "source": [
    "# 2. Punctuation and stop word removal"
   ]
  },
  {
   "cell_type": "code",
   "execution_count": 135,
   "id": "aadea93e-e41a-44c8-adb9-8707757dcd7a",
   "metadata": {},
   "outputs": [],
   "source": [
    "punctuations='''!@#$%^&*()_+{}:\"\"<>?/.,';][\\|=-1234567890'''"
   ]
  },
  {
   "cell_type": "code",
   "execution_count": 136,
   "id": "445e202f-b85c-4d20-999c-97c30d235a05",
   "metadata": {},
   "outputs": [
    {
     "name": "stderr",
     "output_type": "stream",
     "text": [
      "C:\\Users\\HP\\AppData\\Local\\Temp\\ipykernel_17960\\1954265349.py:7: SettingWithCopyWarning: \n",
      "A value is trying to be set on a copy of a slice from a DataFrame\n",
      "\n",
      "See the caveats in the documentation: https://pandas.pydata.org/pandas-docs/stable/user_guide/indexing.html#returning-a-view-versus-a-copy\n",
      "  df.loc[i, 'text'] = new\n"
     ]
    },
    {
     "data": {
      "text/plain": [
       "0     applesupport causing the reply to be disregard...\n",
       "1      your business means a lot to us please dm you...\n",
       "2      i really hope you all change but im sure you ...\n",
       "3      livechat is online at the moment  httpstcosyv...\n",
       "4     virgintrains see attached error message ive tr...\n",
       "                            ...                        \n",
       "88     i wish amazon had an option of where i can ju...\n",
       "89    they reschedule my shit for tomorrow httpstcor...\n",
       "90     hey sara sorry to hear of the issues you are ...\n",
       "91    tesco bit of both  finding the layout cumberso...\n",
       "92     if that doesnt help please dm your full name ...\n",
       "Name: text, Length: 93, dtype: object"
      ]
     },
     "execution_count": 136,
     "metadata": {},
     "output_type": "execute_result"
    }
   ],
   "source": [
    "for i in range(len(df)):\n",
    "    stri = df.loc[i, 'text']\n",
    "    new = \"\"\n",
    "    for char in stri:\n",
    "        if char not in punctuations:\n",
    "            new += char\n",
    "    df.loc[i, 'text'] = new\n",
    "df['text']"
   ]
  },
  {
   "cell_type": "code",
   "execution_count": 146,
   "id": "24afdabf-3dcd-4659-a9bf-383a6e055f10",
   "metadata": {},
   "outputs": [
    {
     "name": "stdout",
     "output_type": "stream",
     "text": [
      "['applesupport', 'causing', 'the', 'reply', 'to', 'be', 'disregarded', 'and', 'the', 'tapped', 'notification', 'under', 'the', 'keyboard', 'is', 'opened😡😡😡']\n",
      "['', 'your', 'business', 'means', 'a', 'lot', 'to', 'us', 'please', 'dm', 'your', 'name', 'zip', 'code', 'and', 'additional', 'details', 'about', 'your', 'concern', 'rr', 'httpstcoznuuvjnr']\n",
      "['', 'i', 'really', 'hope', 'you', 'all', 'change', 'but', 'im', 'sure', 'you', 'wont', 'because', 'you', 'dont', 'have', 'to']\n",
      "['', 'livechat', 'is', 'online', 'at', 'the', 'moment', '', 'httpstcosyvtukq', 'or', 'contact', '', '', '', 'option', '', '', '', 'leave', 'a', 'message', 'to', 'request', 'a', 'call', 'back']\n",
      "['virgintrains', 'see', 'attached', 'error', 'message', 'ive', 'tried', 'leaving', 'a', 'voicemail', 'several', 'times', 'in', 'the', 'past', 'week', 'httpstconxvzjlyxk']\n",
      "['', 'have', 'you', 'tried', 'from', 'another', 'device', 'miriam', 'mm']\n",
      "['virgintrains', 'yep', 'ive', 'tried', 'laptop', 'too', 'several', 'times', 'over', 'the', 'past', 'week', 'and', 'again', 'today', 'ive', 'tried', 'different', 'browsers', 'too']\n",
      "['', 'its', 'working', 'ok', 'from', 'here', 'miriam', 'does', 'this', 'link', 'help', 'httpstcommpheh', '', 'mm']\n",
      "['virgintrains', 'i', 'still', 'havent', 'heard', 'amp', 'the', 'number', 'im', 'directed', 'to', 'by', 'phone', 'is', 'a', 'dead', 'end', 'amp', 'the', 'live', 'chat', 'doesnt', 'work', 'can', 'someone', 'call', 'me']\n",
      "['', 'thats', 'what', 'were', 'here', 'for', 'miriam', '😊', '', 'the', 'team', 'should', 'send', 'you', 'an', 'email', 'shortly', 'hp']\n",
      "['', 'we', 'can', 'help', 'which', 'version', 'of', 'ios', 'are', 'you', 'on', 'you', 'can', 'find', 'that', 'in', 'settings', 'gt', 'general', 'gt', 'about', 'reply', 'in', 'dm', 'httpstcogdrquypt']\n",
      "['', 'applesupport', 'me', 'too', 'am', 'suffering', '', 'hope', 'the', 'can', 'find', 'a', 'solution']\n",
      "['applesupport', 'hi', 'apple', 'i’ve', 'a', 'concern', 'about', 'the', 'latest', 'ios', 'is', 'too', 'slow', 'on', 'iphone', 'and', 'i', 'am', 'not', 'happy', 'with', 'it', 'any', 'solution', 'please']\n",
      "['', 'thanks', 'for', 'reaching', 'out', 'to', 'us', 'we', 'are', 'always', 'happy', 'to', 'help', 'send', 'us', 'a', 'dm', 'so', 'we', 'can', 'look', 'into', 'this', 'together', 'httpstcogdrquypt']\n",
      "['i', 'just', 'updated', 'my', 'phone', 'and', 'suddenly', 'everything', 'takes', 'ages', 'to', 'load', 'wtf', '', 'this', 'update', 'sux', 'i', 'hate', 'it', 'fix', 'it', 'bye']\n",
      "['', 'hi', 'there', 'what', 'device', 'is', 'this', 'happening', 'on', 'if', 'you', 'could', 'also', 'let', 'us', 'know', 'the', 'android', 'and', 'spotify', 'versions', 'youre', 'using', 'thatd', 'be', 'great', 'ay']\n",
      "['spotifycares', 'thanks', 'version', '', 'armv', 'on', 'anker', 'bluetooth', 'speaker', 'on', 'samsung', 'galaxy', 'tab', 'a', '', 'model', 'smt', 'does', 'distance', 'from', 'speaker', 'matter']\n",
      "['', 'thanks', 'the', 'distance', 'could', 'possibly', 'affect', 'playback', 'does', 'logging', 'out', 'gt', 'restarting', 'your', 'device', 'gt', 'logging', 'back', 'in', 'make', 'a', 'difference', 'ay']\n",
      "['spotifycares', 'no', 'but', 'ive', 'moved', 'speaker', 'to', 'about', '', 'metre', 'away', 'and', 'its', 'not', 'skipping', 'at', 'the', 'mo', '', 'it', 'was', 'about', '', 'or', '', 'metres', 'away', 'before', 'fingers', 'crossed']\n",
      "['', 'thats', 'great', 'to', 'hear', 'if', 'anything', 'comes', 'up', 'just', 'let', 'us', 'know', 'well', 'carry', 'on', 'helping', 'out', '🙂', 'ay']\n",
      "['spotifycares', 'brilliant', 'thanks', '😊']\n",
      "['', 'youre', 'welcome', 'if', 'theres', 'anything', 'else', 'we', 'can', 'help', 'with', 'just', 'give', 'us', 'a', 'shout', 'were', 'here', 'for', 'you', '😉', 'cp']\n",
      "['', '', 'please', 'help', 'spotify', 'premium', 'skipping', 'through', 'songs', 'constantly', 'on', 'android', 'tablet', 'amp', 'bluetooth', 'speaker', 'tried', 'everything']\n",
      "['', 'wed', 'love', 'to', 'help', 'please', 'dm', 'us', 'and', 'let', 'us', 'know', 'any', 'steps', 'youve', 'tried', 'since', 'experiencing', 'these', 'behaviors', 'httpstcogdrquypt']\n",
      "['applesupport', 'after', 'the', '', 'my', 'phone', 'just', 'sucks', 'most', 'of', 'the', 'apps', 'are', 'broken', 'wifi', 'disconnects', 'frequently', 'apple', 'ios', 'painfulupdate']\n",
      "['', 'were', 'sorry', 'your', 'flight', 'has', 'been', 'delayed', 'beatner', 'are', 'you', 'travelling', 'on', 'the', 'ba', 'if', 'so', 'the', 'updated', 'departure', 'time', 'we', 'have', 'is', '', '']\n",
      "['first', 'flight', 'for', 'long', 'time', 'with', 'britishairways', 'now', 'over', 'one', 'h', 'delay', 'for', 'the', 'short', 'jump', 'fralcy', 'and', 'no', 'one', 'here', 'to', 'provide', 'status', 'updates']\n",
      "['', 'battery', 'life', 'is', 'important', 'and', 'were', 'here', 'for', 'you', 'dm', 'us', 'the', 'ios', 'version', 'your', 'iphone', 'is', 'running', 'well', 'go', 'from', 'there', 'httpstcogdrquypt']\n",
      "['okay', '', 'i', 'used', 'my', 'fucking', 'phone', 'for', '', 'minutes', 'and', 'it', 'drains', 'it', 'down', '', 'fucking', 'percent']\n",
      "['', 'thanks', 'for', 'reaching', 'out', 'to', 'us', 'we', 'are', 'always', 'happy', 'to', 'help', 'send', 'us', 'a', 'dm', 'so', 'we', 'can', 'look', 'into', 'this', 'together', 'httpstcogdrquypt']\n",
      "['applesupport', 'can', 'you', 'get', 'my', 'iphone', 'plus', 'back', 'on', 'the', 'old', 'ios', 'please', '', 'battery', 'runs', 'out', 'in', 'half', 'the', 'time', 'apps', 'now', 'frequently', 'crash']\n",
      "['', 'wed', 'be', 'happy', 'to', 'help', 'send', 'us', 'a', 'dm', 'and', 'we', 'can', 'start', 'there', 'httpstcogdrquypt']\n",
      "['you’ve', 'paralysed', 'my', 'phone', 'with', 'your', 'update', '', 'grrrrrrrrrr']\n",
      "['', '🤔', 'wed', 'like', 'to', 'help', 'sam', 'which', 'number', 'is', 'calling', 'you', 'please', 'dm', 'us', 'more', 'info', 'so', 'we', 'can', 'advise', 'further', 'httpstcopyldjbcr']\n",
      "['o', 'i', 'received', 'this', 'a', 'few', 'weeks', 'ago', 'since', 'then', 'ive', 'been', 'getting', '', 'calls', 'a', 'day', 'from', 'a', 'telemarketer', 'is', 'someone', 'using', 'your', 'name', 'httpstcogltzxhcex']\n",
      "['', 'i', 'understand', 'this', 'is', 'a', 'frustrating', 'experience', 'please', 'send', 'a', 'dm', 'with', 'your', 'account', 'information', 'so', 'i', 'can', 'look', 'into', 'this', 'matter', 'for', 'you', 'ad']\n",
      "['my', 'internet', 'is', 'down', 'and', 'xfinity', 'talkin', 'about', '', 'hours', 'y’all', 'have', 'the', 'game', 'messed', 'up', '\\n\\n']\n",
      "['', 'i', 'understand', 'how', 'you', 'frustrated', 'this', 'situation', 'can', 'be', 'please', 'follow', 'us', 'by', 'sending', 'a', 'dm', 'for', 'further', 'assistance', 'sprint', 'cares', 'ac']\n",
      "['', '', 'i', 'service', 'last', '', 'min', 'sprint', 'can', 'i', 'get', 'a', 'refund', 'httpstcowypwhpwt']\n",
      "['', 'wed', 'like', 'to', 'help', 'what', 'happens', 'when', 'you', 'try', 'to', 'listen', 'to', 'apple', 'music', 'amp', 'use', 'whatsapp', 'does', 'the', 'music', 'pause', 'let', 'us', 'know', 'in', 'dm', 'httpstcogdrquypt']\n",
      "['so', 'the', 'new', '', 'update', 'does', 'not', 'let', 'me', 'listen', 'to', 'music', 'and', 'go', 'on', 'whatsapp', 'at', 'the', 'same', 'time']\n",
      "['', 'hi', 'harry', 'helps', 'here', 'can', 'you', 'check', 'if', 'logging', 'out', 'gt', 'restarting', 'your', 'device', 'gt', 'logging', 'back', 'in', 'makes', 'a', 'difference', 'keep', 'us', 'posted', 'mu']\n",
      "['spotifycares', 'seems', 'to', 'be', 'working', 'at', 'this', 'stage', 'will', 'let', 'you', 'know', 'if', 'it', 'happens', 'again', 'cheers']\n",
      "['', 'sure', 'thing', 'well', 'keep', 'an', 'eye', 'out', 'for', 'your', 'update', 'mu']\n",
      "['spotifycares', 'problem', 'has', 'come', 'back', 'again', 'today', 'is', 'there', 'some', 'kind', 'of', 'bug']\n",
      "['', 'thanks', 'for', 'giving', 'us', 'a', 'nudge', 'about', 'this', 'what', 'device', 'operating', 'system', 'and', 'spotify', 'version', 'is', 'this', 'happening', 'on', 'ay']\n",
      "['spotifycares', 'its', 'on', 'a', 'macbook', 'air', 'early', '', 'running', 'high', 'sierra', 'spotify', 'version', 'gacae']\n",
      "['', 'got', 'it', 'can', 'you', 'try', 'the', 'steps', 'here', 'for', 'us', 'httpstcoeqisdmwzat', 'they', 'should', 'help', 'with', 'this', 'let', 'us', 'know', 'how', 'it', 'plays', 'out', 'ay']\n",
      "['spotifycares', 'ive', 'been', 'having', 'issues', 'with', 'playback', 'songs', 'have', 'been', 'stopping', 'midway', 'through', 'and', 'wont', 'restart', 'unless', 'i', 'close', 'and', 'reopen', 'app']\n",
      "['', 'lets', 'take', 'a', 'look', 'what', 'is', 'the', 'exact', 'ios', 'youre', 'using', 'are', 'you', 'using', 'any', 'specific', 'apps', 'when', 'noticing', 'this', 'dm', 'us', 'your', 'reply', 'httpstcogdrquypt']\n",
      "['applesupport', 'latest', 'version', '😡😡', 'i', 'have', 'read', 'the', 'help', 'page', 'turned', 'off', 'virtually', 'all', 'apps', 'and', 'location', 'svs', 'too', '', 'but', 'in', 'typing', 'this', 'i', 'dropped', '', 'life']\n",
      "['applesupport', 'super', 'help', '', 'problem', 'solved', '😀', 'once', 'again', 'in', 'love', 'with', 'apple']\n",
      "['applesupport', 'iosupdate', '', 'is', 'still', 'killing', 'my', 'battery', 'within', '', 'hours', '', 'phone', 'is', '', 'months', 'old', '', 'it’s', 'a', 'disgrace', '', 'used', 'to', 'get', '', 'days']\n",
      "['', 'thanks', 'for', 'reaching', 'out', 'to', 'us', 'we', 'are', 'always', 'happy', 'to', 'help', 'send', 'us', 'a', 'dm', 'so', 'we', 'can', 'look', 'into', 'this', 'together', 'httpstcogdrquypt']\n",
      "['took', 'my', 'phone', 'off', 'charge', 'at', 'am\\n\\nam', '', '', 'battery', 'remaining\\n\\n', 'plz', 'i', 'beg', 'you', 'sort', 'your', 'battery', 'life', 'out😩']\n",
      "['', 'once', 'the', 'points', 'load', 'and', 'you', 'hit', 'the', 'number', 'you', 'get', 'it', 'immediately', 'youll', 'even', 'receive', 'a', 'congrats', 'email', 'are', 'you', 'almost', 'there', 'ac']\n",
      "['southwestair', 'i', 'am', 'thank', 'you', 'for', 'the', 'answer']\n",
      "['southwestair', 'just', 'curiouswill', 'i', 'get', 'the', 'companion', 'pass', 'the', 'exact', 'moment', 'i', 'get', 'enough', 'points', 'it', 'will', 'i', 'have', 'to', 'wait', 'thanks']\n",
      "['', 'wed', 'like', 'to', 'provide', 'some', 'assistance', 'with', 'this', 'tell', 'us', 'more', 'about', 'the', 'issue', 'youre', 'experiencing', 'in', 'dm', 'well', 'go', 'from', 'there', 'httpstcogdrquypt']\n",
      "['applesupport', 'i', 'need', 'a', 'new', 'code', 'for', 'my', 'istore', 'i', 'haven’t', 'recd', 'any', 'but', 'msg', 'is', 'too', 'many', 'sent', 'help']\n",
      "['', 'are', 'you', 'experiencing', 'an', 'issue', 'with', 'your', 'device', 'if', 'so', 'dm', 'us', 'with', 'whats', 'going', 'on', 'well', 'see', 'how', 'we', 'can', 'help', 'from', 'there', 'httpstcogdrquypt']\n",
      "['', 'applesupport', 'fix', 'this', 'update', 'it’s', 'horrible']\n",
      "['', 'i', 'appreciate', 'its', 'after', '', 'now', 'so', 'hopefully', 'you', 'will', 'depart', 'very', 'soon', 'were', 'sorry', 'for', 'any', 'inconvenience', 'the', 'delay', 'has', 'caused', '', 'jr']\n",
      "['britishairways', 'thanks', 'for', 'your', 'answer', 'response', 'onsite', 'was', 'that', 'aircraft', 'will', 'not', 'depart', 'today', 'so', 'rebooking', 'to', '', 'with', 'now', 'h', 'delay']\n",
      "['', 'very', 'sorry', 'to', 'hear', 'this', '', 'we', 'hope', 'you', 'get', 'everything', 'sorted', '', '', 'kind', 'regards', 'jools']\n",
      "['', 'i', 'am', 'sorry', 'for', 'the', 'poor', 'experience', 'can', 'you', 'please', 'dm', 'the', 'full', 'service', 'address', 'and', 'name', 'on', 'the', 'account', 'as', 'we', 'ass', 'httpstcojezhqgdbmd']\n",
      "['askspectrum', 'its', 'just', 'in', 'my', 'yard', 'ive', 'called', '', 'times', 'in', '', 'weeks', 'im', 'not', 'a', 'customer', 'but', 'its', 'pretty', 'tempting', 'i', 'do', 'have', 'some', 'coaxial']\n",
      "['', 'i', 'guess', 'this', 'means', 'free', 'cable', 'for', 'the', 'neighborhood', 'httpstcofbgeeyxpm']\n",
      "['', 'hi', 'thomas', 'if', 'a', 'colleague', 'believes', 'the', 'person', 'buying', 'alcohol', 'looks', 'under', '', 'they', 'will', 'be', 'challenged', 'for', 'id', 'to', 'prove', 'theyre', 'of', 'age', '', 'paige']\n",
      "['tesco', 'maybe', 'hire', 'colleagues', 'who', 'can', 'see']\n",
      "['tesco', 'the', 'point', 'is', 'if', 'its', 'enforced', 'they', 'do', 'it', 'properly', 'or', 'they', 'dont', 'plus', 'take', 'some', 'commonsense', 'and', 'think', 'does', 'that', 'person', 'look', 'over', '']\n",
      "['', 'hi', 'thomas', 'this', 'is', 'correct', 'but', 'this', 'helps', 'our', 'store', 'colleagues', 'judge', 'age', 'and', 'protect', 'them', 'from', 'making', 'underage', 'sales', 'amanda']\n",
      "['tesco', 'uk', 'offlicense', 'law', 'is', '', 'not', '']\n",
      "['', 'hi', 'thomas', 'we', 'operate', 'a', 'think', '', 'policy', 'at', 'our', 'stores', 'id', 'be', 'flattered', 'to', 'be', 'idd', '', '', 'helena']\n",
      "['got', 'ids', 'tesco', 'for', 'buying', 'one', 'adnams', 'broadside', 'is', 'being', 'blind', 'part', 'of', 'the', 'jobspec', 'i', 'am', '', 'and', '', 'kilos']\n",
      "['', 'hi', 'there', 'could', 'you', 'try', 'deleting', 'your', 'cache', 'and', 'cookies', 'and', 'reinstalling', 'the', 'app', 'if', 'using', 'it', 'this', 'should', 'fix', 'the', 'issue', '', '', 'dani']\n",
      "['tesco', 'will', 'i', 'lose', 'all', 'the', 'shopping', 'ive', 'done', 'if', 'i', 'delete', 'the', 'cachecookies', 'not', 'using', 'app']\n",
      "['', 'hi', 'there', 'as', 'long', 'as', 'you', 'sign', 'out', 'of', 'your', 'account', 'prior', 'to', 'deleting', 'your', 'cache', 'amp', 'cookies', 'youll', 'still', 'have', 'a', 'full', 'basket', '', 'thanks', '', 'mike']\n",
      "['tesco', 'done', 'all', 'that', 'still', 'telling', 'me', 'there', 'are', 'no', 'delivery', 'slots', 'whatsoever']\n",
      "['', 'can', 'you', 'dm', 'me', 'your', 'full', 'name', 'address', 'and', 'email', 'id', 'be', 'happy', 'to', 'look', 'into', 'this', 'further', 'for', 'you', '', 'thanks', '', 'mike']\n",
      "['hey', 'tesco', 'your', 'websites', 'broken', 'its', 'telling', 'me', 'there', 'are', 'no', 'delivery', 'slots', 'for', 'the', 'next', '', 'weeks', 'which', 'i', 'find', 'slightly', 'unlikely']\n",
      "['', 'is', 'there', 'a', 'particular', 'app', 'that', 'seems', 'to', 'cause', 'these', 'issues', 'more', 'than', 'others', 'what', 'model', 'iphone', 'are', 'you', 'using', 'join', 'us', 'in', 'dm', 'httpstcogdrquypt']\n",
      "['applesupport', 'i', 'have', 'the', 'latest', 'version', 'ios', 'it', 'started', 'immediately', 'after', 'i', 'updated', 'my', 'phone']\n",
      "['', 'wed', 'like', 'to', 'help', 'if', 'we', 'can', 'when', 'did', 'this', 'start', 'happening', 'which', 'version', 'of', 'ios', 'are', 'you', 'running', 'currently']\n",
      "['my', 'apps', 'stop', 'working', 'without', 'warning', 'and', 'my', 'phone', 'freezes', 'every', 'five', 'minutes', 'love', 'the', 'new', 'update', '']\n",
      "['', 'hi', 'agoura', 'thanks', 'for', 'tweeting', 'please', 'refer', 'to', 'this', 'article', 'httpstcobssgjzartc', 'amp', 'click', 'the', 'link', 'to', 'reply', 'back', 'rashmi', 'httpstcoaxkfcrug']\n",
      "['hpsupport', 'problem', 'with', 'printhead', '', 'serial', 'thdhn', 'hpcswus', 'hpprnt']\n",
      "['', 'ups', 'has', 'a', 'service', 'called', 'my', 'choice', 'that', 'will', 'allow', 'your', 'packages', 'to', 'be', 'delivered', 'to', 'ups', 'store', 'ml', '', 'httpstcobpzkndqww', 'httpstcowkjhdxwgrq']\n",
      "['', 'i', 'wish', 'amazon', 'had', 'an', 'option', 'of', 'where', 'i', 'can', 'just', 'get', 'it', 'shipped', 'to', 'the', 'ups', 'store', 'so', 'i', 'can', 'avoid', 'a', 'lot', 'of', 'the', 'struggle']\n",
      "['they', 'reschedule', 'my', 'shit', 'for', 'tomorrow', 'httpstcorsvzctt']\n",
      "['', 'hey', 'sara', 'sorry', 'to', 'hear', 'of', 'the', 'issues', 'you', 'are', 'having', 'can', 'i', 'ask', 'if', 'its', 'the', 'lay', 'out', 'or', 'just', 'the', 'speed', 'of', 'the', 'website', 'responding', 'ty', '', 'chris']\n",
      "['tesco', 'bit', 'of', 'both', '', 'finding', 'the', 'layout', 'cumbersome', 'and', 'when', 'removing', 'an', 'item', 'from', 'faves', '', 'getting', 'a', 'huge', 'slowdown', 'not', 'keen', 'on', 'the', 'thin', 'green', 'line', 'httpstcookeebk']\n",
      "['', 'if', 'that', 'doesnt', 'help', 'please', 'dm', 'your', 'full', 'name', 'address', 'and', 'email', 'including', 'the', 'browser', 'and', 'device', 'so', 'we', 'can', 'log', 'this', 'thanks', '', 'lee', '']\n"
     ]
    },
    {
     "name": "stderr",
     "output_type": "stream",
     "text": [
      "C:\\Users\\HP\\AppData\\Local\\Temp\\ipykernel_17960\\2666732149.py:14: SettingWithCopyWarning: \n",
      "A value is trying to be set on a copy of a slice from a DataFrame.\n",
      "Try using .loc[row_indexer,col_indexer] = value instead\n",
      "\n",
      "See the caveats in the documentation: https://pandas.pydata.org/pandas-docs/stable/user_guide/indexing.html#returning-a-view-versus-a-copy\n",
      "  df['clean_text'] = cleaned\n"
     ]
    },
    {
     "data": {
      "text/plain": [
       "0      applesupport causing reply disregarded tapped...\n",
       "1       business means lot us please dm name zip cod...\n",
       "2                  really hope change im sure wont dont\n",
       "3       livechat online moment  httpstcosyvtukq cont...\n",
       "4      virgintrains see attached error message ive t...\n",
       "                            ...                        \n",
       "88      wish amazon option get shipped ups store avo...\n",
       "89             reschedule shit tomorrow httpstcorsvzctt\n",
       "90      hey sara sorry hear issues ask lay speed web...\n",
       "91     tesco bit  finding layout cumbersome removing...\n",
       "92      doesnt help please dm full name address emai...\n",
       "Name: clean_text, Length: 93, dtype: object"
      ]
     },
     "execution_count": 146,
     "metadata": {},
     "output_type": "execute_result"
    }
   ],
   "source": [
    "from nltk.corpus import stopwords\n",
    "stop_words=stopwords.words(\"english\")\n",
    "cleaned=[]\n",
    "for i in range(len(df)):\n",
    "    stri = df.loc[i, 'text']\n",
    "    new = \"\"\n",
    "    words=stri.split(\" \")\n",
    "    print(words)\n",
    "    for word in words:\n",
    "        if word not in stop_words:\n",
    "            new +=\" \"+word\n",
    "    cleaned.append(new)\n",
    "\n",
    "df['clean_text'] = cleaned\n",
    "df['clean_text']"
   ]
  },
  {
   "cell_type": "markdown",
   "id": "72555b3f-25cc-4dad-8a83-00a7289459e1",
   "metadata": {},
   "source": [
    "# 3. Lemmetization"
   ]
  },
  {
   "cell_type": "code",
   "execution_count": 151,
   "id": "2e3b4aac-c340-4568-8de1-e753897a056e",
   "metadata": {},
   "outputs": [],
   "source": [
    "from nltk.stem import WordNetLemmatizer"
   ]
  },
  {
   "cell_type": "code",
   "execution_count": 155,
   "id": "2c7b27cd-1a38-4a9f-bd95-f1f70f0d5651",
   "metadata": {},
   "outputs": [
    {
     "name": "stderr",
     "output_type": "stream",
     "text": [
      "[nltk_data] Downloading package wordnet to\n",
      "[nltk_data]     C:\\Users\\HP\\AppData\\Roaming\\nltk_data...\n",
      "[nltk_data]   Package wordnet is already up-to-date!\n",
      "C:\\Users\\HP\\AppData\\Local\\Temp\\ipykernel_17960\\2666104659.py:15: SettingWithCopyWarning: \n",
      "A value is trying to be set on a copy of a slice from a DataFrame.\n",
      "Try using .loc[row_indexer,col_indexer] = value instead\n",
      "\n",
      "See the caveats in the documentation: https://pandas.pydata.org/pandas-docs/stable/user_guide/indexing.html#returning-a-view-versus-a-copy\n",
      "  df['lemm_text'] = lemm\n"
     ]
    },
    {
     "data": {
      "text/plain": [
       "0     applesupport causing reply disregarded tapped ...\n",
       "1     business mean lot u please dm name zip code ad...\n",
       "2                  really hope change im sure wont dont\n",
       "3     livechat online moment  httpstcosyvtukq contac...\n",
       "4     virgintrains see attached error message ive tr...\n",
       "                            ...                        \n",
       "88    wish amazon option get shipped ups store avoid...\n",
       "89             reschedule shit tomorrow httpstcorsvzctt\n",
       "90    hey sara sorry hear issue ask lay speed websit...\n",
       "91    tesco bit  finding layout cumbersome removing ...\n",
       "92    doesnt help please dm full name address email ...\n",
       "Name: lemm_text, Length: 93, dtype: object"
      ]
     },
     "execution_count": 155,
     "metadata": {},
     "output_type": "execute_result"
    }
   ],
   "source": [
    "import nltk\n",
    "from nltk.stem import WordNetLemmatizer\n",
    "nltk.download('wordnet')\n",
    "\n",
    "lemmatizer = WordNetLemmatizer()\n",
    "lemm = []\n",
    "for stri in df['clean_text']:\n",
    "    tokens = stri.split(\" \")\n",
    "    new = \"\"\n",
    "    for word in tokens:\n",
    "        new += \" \" + lemmatizer.lemmatize(word)\n",
    "    lemm.append(new.strip())\n",
    "\n",
    "df['lemm_text'] = lemm\n",
    "df['lemm_text']"
   ]
  },
  {
   "cell_type": "markdown",
   "id": "fd5156a1-7ccf-4cec-9ac0-f977c2f80dc0",
   "metadata": {},
   "source": [
    "# 4. Remove Emojis"
   ]
  },
  {
   "cell_type": "code",
   "execution_count": 156,
   "id": "eff35314-b008-4414-abe1-5f0c28d2034e",
   "metadata": {},
   "outputs": [],
   "source": [
    "import re"
   ]
  },
  {
   "cell_type": "code",
   "execution_count": 161,
   "id": "deea9d7b-3ff7-4c47-b5dd-d4754471865a",
   "metadata": {},
   "outputs": [
    {
     "name": "stdout",
     "output_type": "stream",
     "text": [
      "['applesupport causing reply disregarded tapped notification keyboard opened', 'business mean lot u please dm name zip code additional detail concern rr httpstcoznuuvjnr', 'really hope change im sure wont dont', 'livechat online moment  httpstcosyvtukq contact    option    leave message request call back', 'virgintrains see attached error message ive tried leaving voicemail several time past week httpstconxvzjlyxk', 'tried another device miriam mm', 'virgintrains yep ive tried laptop several time past week today ive tried different browser', 'working ok miriam link help httpstcommpheh  mm', 'virgintrains still havent heard amp number im directed phone dead end amp live chat doesnt work someone call', 'thats miriam   team send email shortly hp', 'help version io find setting gt general gt reply dm httpstcogdrquypt', 'applesupport suffering  hope find solution', 'applesupport hi apple i’ve concern latest io slow iphone happy solution please', 'thanks reaching u always happy help send u dm look together httpstcogdrquypt', 'updated phone suddenly everything take age load wtf  update sux hate fix bye', 'hi device happening could also let u know android spotify version youre using thatd great ay', 'spotifycares thanks version  armv anker bluetooth speaker samsung galaxy tab  model smt distance speaker matter', 'thanks distance could possibly affect playback logging gt restarting device gt logging back make difference ay', 'spotifycares ive moved speaker  metre away skipping mo    metre away finger crossed', 'thats great hear anything come let u know well carry helping  ay', 'spotifycares brilliant thanks ', 'youre welcome there anything else help give u shout  cp', 'please help spotify premium skipping song constantly android tablet amp bluetooth speaker tried everything', 'wed love help please dm u let u know step youve tried since experiencing behavior httpstcogdrquypt', 'applesupport  phone suck apps broken wifi disconnect frequently apple io painfulupdate', 'sorry flight delayed beatner travelling ba updated departure time', 'first flight long time britishairways one h delay short jump fralcy one provide status update', 'battery life important dm u io version iphone running well go httpstcogdrquypt', 'okay  used fucking phone  minute drain  fucking percent', 'thanks reaching u always happy help send u dm look together httpstcogdrquypt', 'applesupport get iphone plus back old io please  battery run half time apps frequently crash', 'wed happy help send u dm start httpstcogdrquypt', 'you’ve paralysed phone update  grrrrrrrrrr', '🤔 wed like help sam number calling please dm u info advise httpstcopyldjbcr', 'received week ago since ive getting  call day telemarketer someone using name httpstcogltzxhcex', 'understand frustrating experience please send dm account information look matter ad', 'internet xfinity talkin  hour y’all game messed', 'understand frustrated situation please follow u sending dm assistance sprint care ac', 'service last  min sprint get refund httpstcowypwhpwt', 'wed like help happens try listen apple music amp use whatsapp music pause let u know dm httpstcogdrquypt', 'new  update let listen music go whatsapp time', 'hi harry help check logging gt restarting device gt logging back make difference keep u posted mu', 'spotifycares seems working stage let know happens cheer', 'sure thing well keep eye update mu', 'spotifycares problem come back today kind bug', 'thanks giving u nudge device operating system spotify version happening ay', 'spotifycares macbook air early  running high sierra spotify version gacae', 'got try step u httpstcoeqisdmwzat help let u know play ay', 'spotifycares ive issue playback song stopping midway wont restart unless close reopen app', 'let take look exact io youre using using specific apps noticing dm u reply httpstcogdrquypt', 'applesupport latest version  read help page turned virtually apps location svs  typing dropped  life', 'applesupport super help  problem solved  love apple', 'applesupport iosupdate  still killing battery within  hour  phone  month old  it’s disgrace  used get  day', 'thanks reaching u always happy help send u dm look together httpstcogdrquypt', 'took phone charge am\\n\\nam   battery remaining\\n\\n plz beg sort battery life out', 'point load hit number get immediately youll even receive congrats email almost ac', 'southwestair thank answer', 'southwestair curiouswill get companion pas exact moment get enough point wait thanks', 'wed like provide assistance tell u issue youre experiencing dm well go httpstcogdrquypt', 'applesupport need new code istore haven’t recd msg many sent help', 'experiencing issue device dm u whats going well see help httpstcogdrquypt', 'applesupport fix update it’s horrible', 'appreciate  hopefully depart soon sorry inconvenience delay caused  jr', 'britishairways thanks answer response onsite aircraft depart today rebooking  h delay', 'sorry hear  hope get everything sorted   kind regard jools', 'sorry poor experience please dm full service address name account as httpstcojezhqgdbmd', 'askspectrum yard ive called  time  week im customer pretty tempting coaxial', 'guess mean free cable neighborhood httpstcofbgeeyxpm', 'hi thomas colleague belief person buying alcohol look  challenged id prove theyre age  paige', 'tesco maybe hire colleague see', 'tesco point enforced properly dont plus take commonsense think person look', 'hi thomas correct help store colleague judge age protect making underage sale amanda', 'tesco uk offlicense law', 'hi thomas operate think  policy store id flattered idd   helena', 'got id tesco buying one adnams broadside blind part jobspec   kilo', 'hi could try deleting cache cooky reinstalling app using fix issue   dani', 'tesco lose shopping ive done delete cachecookies using app', 'hi long sign account prior deleting cache amp cooky youll still full basket  thanks  mike', 'tesco done still telling delivery slot whatsoever', 'dm full name address email id happy look  thanks  mike', 'hey tesco website broken telling delivery slot next  week find slightly unlikely', 'particular app seems cause issue others model iphone using join u dm httpstcogdrquypt', 'applesupport latest version io started immediately updated phone', 'wed like help start happening version io running currently', 'apps stop working without warning phone freeze every five minute love new update', 'hi agoura thanks tweeting please refer article httpstcobssgjzartc amp click link reply back rashmi httpstcoaxkfcrug', 'hpsupport problem printhead  serial thdhn hpcswus hpprnt', 'ups service called choice allow package delivered ups store ml  httpstcobpzkndqww httpstcowkjhdxwgrq', 'wish amazon option get shipped ups store avoid lot struggle', 'reschedule shit tomorrow httpstcorsvzctt', 'hey sara sorry hear issue ask lay speed website responding ty  chris', 'tesco bit  finding layout cumbersome removing item faves  getting huge slowdown keen thin green line httpstcookeebk', 'doesnt help please dm full name address email including browser device log thanks  lee']\n"
     ]
    },
    {
     "name": "stderr",
     "output_type": "stream",
     "text": [
      "C:\\Users\\HP\\AppData\\Local\\Temp\\ipykernel_17960\\3856968586.py:11: SettingWithCopyWarning: \n",
      "A value is trying to be set on a copy of a slice from a DataFrame.\n",
      "Try using .loc[row_indexer,col_indexer] = value instead\n",
      "\n",
      "See the caveats in the documentation: https://pandas.pydata.org/pandas-docs/stable/user_guide/indexing.html#returning-a-view-versus-a-copy\n",
      "  df['no_emo']=no_emo\n"
     ]
    }
   ],
   "source": [
    "no_emo=[]\n",
    "for stri in df['lemm_text']:\n",
    "    emoji_pattern = re.compile(\"[\"\n",
    "        u\"\\U0001F600-\\U0001F64F\"  # emoticons\n",
    "        u\"\\U0001F300-\\U0001F5FF\"  # symbols & pictographs\n",
    "        u\"\\U0001F680-\\U0001F6FF\"  # transport & map symbols\n",
    "        u\"\\U0001F1E0-\\U0001F1FF\"  # flags (iOS)\n",
    "                           \"]+\", flags=re.UNICODE)\n",
    "    no_emo.append(emoji_pattern.sub(r'', stri)) # no emoji\n",
    "print(no_emo)\n",
    "df['no_emo']=no_emo"
   ]
  },
  {
   "cell_type": "code",
   "execution_count": 162,
   "id": "aba8be27-e241-4671-bf69-6a5eff6e90f8",
   "metadata": {},
   "outputs": [],
   "source": [
    "# Our data stil needs refining like removing html tags, repeated words, short forms to real word converting but for\n",
    "# basic training and use this much cleansing of data is enough"
   ]
  },
  {
   "cell_type": "code",
   "execution_count": null,
   "id": "5025e196-ec6a-467c-9bce-c1a358b021fa",
   "metadata": {},
   "outputs": [],
   "source": []
  }
 ],
 "metadata": {
  "kernelspec": {
   "display_name": "Python 3 (ipykernel)",
   "language": "python",
   "name": "python3"
  },
  "language_info": {
   "codemirror_mode": {
    "name": "ipython",
    "version": 3
   },
   "file_extension": ".py",
   "mimetype": "text/x-python",
   "name": "python",
   "nbconvert_exporter": "python",
   "pygments_lexer": "ipython3",
   "version": "3.10.18"
  }
 },
 "nbformat": 4,
 "nbformat_minor": 5
}
